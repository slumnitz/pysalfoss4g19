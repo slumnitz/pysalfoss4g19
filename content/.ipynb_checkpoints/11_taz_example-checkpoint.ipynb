{
 "cells": [
  {
   "cell_type": "markdown",
   "metadata": {},
   "source": [
    "### Weights operations"
   ]
  },
  {
   "cell_type": "code",
   "execution_count": null,
   "metadata": {},
   "outputs": [],
   "source": [
    "import numpy as np\n",
    "import libpysal as ps\n",
    "import random as rdm\n",
    "import geopandas as gpd\n",
    "from matplotlib.collections import LineCollection\n",
    "import matplotlib.pyplot as plt\n",
    "%matplotlib inline"
   ]
  },
  {
   "cell_type": "code",
   "execution_count": null,
   "metadata": {},
   "outputs": [],
   "source": [
    "shp = gpd.read_file(ps.examples.get_path(\"taz.shp\"))\n",
    "shp.head()"
   ]
  },
  {
   "cell_type": "code",
   "execution_count": null,
   "metadata": {},
   "outputs": [],
   "source": [
    "shp.plot(figsize=(15,15),color='white', edgecolor='grey')\n",
    "plt.axis('off')"
   ]
  },
  {
   "cell_type": "markdown",
   "metadata": {},
   "source": [
    "## County as unique values"
   ]
  },
  {
   "cell_type": "code",
   "execution_count": null,
   "metadata": {},
   "outputs": [],
   "source": [
    "shp[\"CNTY\"].describe()"
   ]
  },
  {
   "cell_type": "code",
   "execution_count": null,
   "metadata": {},
   "outputs": [],
   "source": [
    "fig, ax = plt.subplots(figsize=(15,15))\n",
    "ax.set_aspect('equal')\n",
    "shp.plot(ax=ax,color='white', edgecolor='black')\n",
    "shp.plot(column=\"CNTY\", ax=ax, categorical=True,cmap=\"Pastel1\",alpha=0.6)\n",
    "ax.set_axis_off()"
   ]
  },
  {
   "cell_type": "markdown",
   "metadata": {},
   "source": [
    "### Construct a Rook contiguity weight"
   ]
  },
  {
   "cell_type": "code",
   "execution_count": null,
   "metadata": {},
   "outputs": [],
   "source": [
    "wrook = ps.weights.Rook.from_dataframe(shp)"
   ]
  },
  {
   "cell_type": "code",
   "execution_count": null,
   "metadata": {},
   "outputs": [],
   "source": [
    "def w2line_graph(w, shp):\n",
    "    segments = []\n",
    "    centroids = shp.centroid.values\n",
    "    for i in w.id2i:\n",
    "        origin = np.array(centroids[i].coords)[0] \n",
    "        for j in w.neighbors[i]:\n",
    "            dest = np.array(centroids[j].coords)[0]\n",
    "            ij = [i,j]\n",
    "            ij.sort()\n",
    "            segments.append([origin, dest])\n",
    "\n",
    "    return segments    "
   ]
  },
  {
   "cell_type": "code",
   "execution_count": null,
   "metadata": {},
   "outputs": [],
   "source": [
    "segs = w2line_graph(wrook, shp)\n",
    "fig, ax = plt.subplots(figsize=(15,15))\n",
    "ax.set_aspect('equal')\n",
    "shp.plot(ax=ax, color='white', edgecolor='grey')\n",
    "segs_plot = LineCollection(np.array(segs),colors=\"red\")\n",
    "segs_plot.set_linewidth(0.20)\n",
    "ax.add_collection(segs_plot)\n",
    "ax.set_axis_off()"
   ]
  },
  {
   "cell_type": "markdown",
   "metadata": {},
   "source": [
    "## Intersection weights"
   ]
  },
  {
   "cell_type": "code",
   "execution_count": null,
   "metadata": {},
   "outputs": [],
   "source": [
    "ps.weights.block_weights?"
   ]
  },
  {
   "cell_type": "code",
   "execution_count": null,
   "metadata": {},
   "outputs": [],
   "source": [
    "wb = ps.weights.block_weights(shp[\"CNTY\"])"
   ]
  },
  {
   "cell_type": "code",
   "execution_count": null,
   "metadata": {
    "scrolled": true
   },
   "outputs": [],
   "source": [
    "wint = ps.weights.w_intersection(wb, wrook)"
   ]
  },
  {
   "cell_type": "code",
   "execution_count": null,
   "metadata": {},
   "outputs": [],
   "source": [
    "segs = w2line_graph(wint, shp)\n",
    "fig, ax = plt.subplots(figsize=(15,15))\n",
    "ax.set_aspect('equal')\n",
    "shp.plot(ax=ax, color='white', edgecolor='grey')\n",
    "segs_plot = LineCollection(np.array(segs),colors=\"red\")\n",
    "segs_plot.set_linewidth(0.20)\n",
    "ax.add_collection(segs_plot)\n",
    "ax.set_axis_off()"
   ]
  },
  {
   "cell_type": "code",
   "execution_count": null,
   "metadata": {},
   "outputs": [],
   "source": [
    "fig, ax = plt.subplots(figsize=(15,15))\n",
    "ax.set_aspect('equal')\n",
    "shp.plot(ax=ax,color='white', edgecolor='black')\n",
    "shp.plot(column=\"CNTY\", ax=ax, categorical=True,cmap=\"Pastel1\",alpha=0.6)\n",
    "segs_plot = LineCollection(np.array(segs),colors=\"red\")\n",
    "segs_plot.set_linewidth(0.20)\n",
    "ax.add_collection(segs_plot)\n",
    "ax.set_axis_off()"
   ]
  },
  {
   "cell_type": "code",
   "execution_count": null,
   "metadata": {},
   "outputs": [],
   "source": []
  },
  {
   "cell_type": "code",
   "execution_count": null,
   "metadata": {},
   "outputs": [],
   "source": []
  },
  {
   "cell_type": "code",
   "execution_count": null,
   "metadata": {},
   "outputs": [],
   "source": []
  },
  {
   "cell_type": "code",
   "execution_count": null,
   "metadata": {},
   "outputs": [],
   "source": []
  }
 ],
 "metadata": {
  "anaconda-cloud": {},
  "kernelspec": {
   "display_name": "Python 3",
   "language": "python",
   "name": "python3"
  },
  "language_info": {
   "codemirror_mode": {
    "name": "ipython",
    "version": 3
   },
   "file_extension": ".py",
   "mimetype": "text/x-python",
   "name": "python",
   "nbconvert_exporter": "python",
   "pygments_lexer": "ipython3",
   "version": "3.6.6"
  }
 },
 "nbformat": 4,
 "nbformat_minor": 2
}
