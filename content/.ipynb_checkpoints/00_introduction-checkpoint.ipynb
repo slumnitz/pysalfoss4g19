{
 "cells": [
  {
   "cell_type": "markdown",
   "metadata": {
    "slideshow": {
     "slide_type": "slide"
    }
   },
   "source": [
    "# Geospatial Data Science with PySAL @FOSS4G2019\n",
    "\n",
    "Sergio Rey  \n",
    "Stefanie Lumnitz  \n",
    "Elijah Knaap  \n",
    "Wei Kang  \n",
    "\n",
    "\n",
    "<img src=\"figs/pysalGraphic.png\" alt=\"drawing\" width=\"500\"/>\n"
   ]
  },
  {
   "cell_type": "markdown",
   "metadata": {
    "slideshow": {
     "slide_type": "slide"
    }
   },
   "source": [
    "## Origins\n",
    "![anaconda](figs/ancienthistory.png)\n"
   ]
  },
  {
   "cell_type": "markdown",
   "metadata": {
    "slideshow": {
     "slide_type": "subslide"
    }
   },
   "source": [
    "## Motivation\n",
    "\n",
    "- Leverage Existing Tools\n",
    "  - GeoDa/PySpace\n",
    "  - STARS\n",
    "- Develop Core Library\n",
    "  - spatial data analytical functions\n",
    "  - enhanced specialization, modularity\n",
    "  - fill void in Python scientific stack\n",
    "- Flexible Delivery System\n",
    "  - interactive shells\n",
    "  - GUI\n",
    "  - Toolkits\n",
    "  - webservices"
   ]
  },
  {
   "cell_type": "markdown",
   "metadata": {
    "slideshow": {
     "slide_type": "subslide"
    }
   },
   "source": [
    "## Release History\n",
    "![anaconda](figs/googlecode.png)\n"
   ]
  },
  {
   "cell_type": "markdown",
   "metadata": {
    "slideshow": {
     "slide_type": "slide"
    }
   },
   "source": [
    "## Use Case: shell\n",
    "![anaconda](figs/pysalcli.png)\n"
   ]
  },
  {
   "cell_type": "markdown",
   "metadata": {
    "slideshow": {
     "slide_type": "subslide"
    }
   },
   "source": [
    "## Use Case: notebook\n",
    "![anaconda](figs/pysalnotebook.png)\n"
   ]
  },
  {
   "cell_type": "markdown",
   "metadata": {
    "slideshow": {
     "slide_type": "subslide"
    }
   },
   "source": [
    "## Use Case: application\n",
    "![anaconda](figs/cast.png)\n"
   ]
  },
  {
   "cell_type": "markdown",
   "metadata": {
    "slideshow": {
     "slide_type": "subslide"
    }
   },
   "source": [
    "## Use Case: toolkit\n",
    "![anaconda](figs/qgis.png)\n"
   ]
  },
  {
   "cell_type": "markdown",
   "metadata": {
    "slideshow": {
     "slide_type": "subslide"
    }
   },
   "source": [
    "## Use Case: cloud\n",
    "![anaconda](figs/pysalcloud.png)\n"
   ]
  },
  {
   "cell_type": "markdown",
   "metadata": {
    "slideshow": {
     "slide_type": "slide"
    }
   },
   "source": [
    "## Adoption\n",
    "\n",
    "![anaconda](figs/cartodb.png)"
   ]
  },
  {
   "cell_type": "markdown",
   "metadata": {
    "slideshow": {
     "slide_type": "subslide"
    }
   },
   "source": [
    "## Adoption\n",
    "\n",
    "![anaconda](figs/pysalanaconda.png)"
   ]
  },
  {
   "cell_type": "markdown",
   "metadata": {
    "slideshow": {
     "slide_type": "subslide"
    }
   },
   "source": [
    "## Adoption\n",
    "\n",
    "![anaconda](figs/pysaldebian.png)"
   ]
  },
  {
   "cell_type": "markdown",
   "metadata": {
    "slideshow": {
     "slide_type": "subslide"
    }
   },
   "source": [
    "http://angrybirdsriogame.info/?d=How+To+Prepare+Your+Data+For+Machine+Learning+in+Python\n",
    "\n",
    "![anaconda](figs/pysalml.png)"
   ]
  },
  {
   "cell_type": "markdown",
   "metadata": {
    "slideshow": {
     "slide_type": "subslide"
    }
   },
   "source": [
    "## PySAL GitHub Stars\n",
    "![anaconda](figs/githubstars.png)"
   ]
  },
  {
   "cell_type": "markdown",
   "metadata": {
    "slideshow": {
     "slide_type": "slide"
    }
   },
   "source": [
    "## PySAL 2.0\n",
    "![components](figs/pysalstructure.png)"
   ]
  },
  {
   "cell_type": "markdown",
   "metadata": {
    "slideshow": {
     "slide_type": "slide"
    }
   },
   "source": [
    "## Installation Options\n",
    "\n",
    "![installation](figs/install.png)"
   ]
  }
 ],
 "metadata": {
  "celltoolbar": "Slideshow",
  "kernelspec": {
   "display_name": "Python 3",
   "language": "python",
   "name": "python3"
  },
  "language_info": {
   "codemirror_mode": {
    "name": "ipython",
    "version": 3
   },
   "file_extension": ".py",
   "mimetype": "text/x-python",
   "name": "python",
   "nbconvert_exporter": "python",
   "pygments_lexer": "ipython3",
   "version": "3.6.7"
  }
 },
 "nbformat": 4,
 "nbformat_minor": 2
}
