{
 "cells": [
  {
   "cell_type": "markdown",
   "metadata": {},
   "source": [
    "# Spatial dynamics analytics with [pysal/giddy](https://giddy.readthedocs.io/en/latest/index.html)\n",
    "\n",
    "* Dynamics of cross-sectional spatial autocorrelation \n",
    "* Modeling spatial dynamics with Markov-based methods\n",
    "    * Classic Markov\n",
    "    * Spatial Markov\n",
    "    * LISA Markov"
   ]
  },
  {
   "cell_type": "code",
   "execution_count": 1,
   "metadata": {},
   "outputs": [],
   "source": [
    "from pysal.lib import io, examples, weights"
   ]
  },
  {
   "cell_type": "code",
   "execution_count": 2,
   "metadata": {},
   "outputs": [],
   "source": [
    "import matplotlib\n",
    "import numpy as np\n",
    "import geopandas as gpd\n",
    "import matplotlib.pyplot as plt\n",
    "%matplotlib inline\n",
    "import seaborn as sns\n",
    "import pandas as pd"
   ]
  },
  {
   "cell_type": "code",
   "execution_count": 3,
   "metadata": {},
   "outputs": [
    {
     "data": {
      "text/html": [
       "<div>\n",
       "<style scoped>\n",
       "    .dataframe tbody tr th:only-of-type {\n",
       "        vertical-align: middle;\n",
       "    }\n",
       "\n",
       "    .dataframe tbody tr th {\n",
       "        vertical-align: top;\n",
       "    }\n",
       "\n",
       "    .dataframe thead th {\n",
       "        text-align: right;\n",
       "    }\n",
       "</style>\n",
       "<table border=\"1\" class=\"dataframe\">\n",
       "  <thead>\n",
       "    <tr style=\"text-align: right;\">\n",
       "      <th></th>\n",
       "      <th>AREA</th>\n",
       "      <th>PERIMETER</th>\n",
       "      <th>STATE_</th>\n",
       "      <th>STATE_ID</th>\n",
       "      <th>STATE_NAME</th>\n",
       "      <th>STATE_FIPS_x</th>\n",
       "      <th>SUB_REGION</th>\n",
       "      <th>STATE_ABBR</th>\n",
       "      <th>geometry</th>\n",
       "      <th>Unnamed: 0</th>\n",
       "      <th>...</th>\n",
       "      <th>2000</th>\n",
       "      <th>2001</th>\n",
       "      <th>2002</th>\n",
       "      <th>2003</th>\n",
       "      <th>2004</th>\n",
       "      <th>2005</th>\n",
       "      <th>2006</th>\n",
       "      <th>2007</th>\n",
       "      <th>2008</th>\n",
       "      <th>2009</th>\n",
       "    </tr>\n",
       "  </thead>\n",
       "  <tbody>\n",
       "    <tr>\n",
       "      <th>0</th>\n",
       "      <td>20.750</td>\n",
       "      <td>34.956</td>\n",
       "      <td>1</td>\n",
       "      <td>1</td>\n",
       "      <td>Washington</td>\n",
       "      <td>53</td>\n",
       "      <td>Pacific</td>\n",
       "      <td>WA</td>\n",
       "      <td>(POLYGON ((-122.400749206543 48.22539520263672...</td>\n",
       "      <td>44</td>\n",
       "      <td>...</td>\n",
       "      <td>39279.457236</td>\n",
       "      <td>38828.653083</td>\n",
       "      <td>38406.773885</td>\n",
       "      <td>38399.791076</td>\n",
       "      <td>39731.934399</td>\n",
       "      <td>39258.183850</td>\n",
       "      <td>40946.131691</td>\n",
       "      <td>42197.181150</td>\n",
       "      <td>41440.039182</td>\n",
       "      <td>40619.0</td>\n",
       "    </tr>\n",
       "    <tr>\n",
       "      <th>1</th>\n",
       "      <td>45.132</td>\n",
       "      <td>34.527</td>\n",
       "      <td>2</td>\n",
       "      <td>2</td>\n",
       "      <td>Montana</td>\n",
       "      <td>30</td>\n",
       "      <td>Mtn</td>\n",
       "      <td>MT</td>\n",
       "      <td>POLYGON ((-111.4746322631836 44.70223999023438...</td>\n",
       "      <td>23</td>\n",
       "      <td>...</td>\n",
       "      <td>28117.802282</td>\n",
       "      <td>29487.632151</td>\n",
       "      <td>29454.415581</td>\n",
       "      <td>30271.870277</td>\n",
       "      <td>31251.533240</td>\n",
       "      <td>31842.212079</td>\n",
       "      <td>32927.598482</td>\n",
       "      <td>33757.124099</td>\n",
       "      <td>33174.550940</td>\n",
       "      <td>32699.0</td>\n",
       "    </tr>\n",
       "    <tr>\n",
       "      <th>2</th>\n",
       "      <td>9.571</td>\n",
       "      <td>18.899</td>\n",
       "      <td>3</td>\n",
       "      <td>3</td>\n",
       "      <td>Maine</td>\n",
       "      <td>23</td>\n",
       "      <td>N Eng</td>\n",
       "      <td>ME</td>\n",
       "      <td>(POLYGON ((-69.77778625488281 44.0740737915039...</td>\n",
       "      <td>16</td>\n",
       "      <td>...</td>\n",
       "      <td>31922.657091</td>\n",
       "      <td>32789.878690</td>\n",
       "      <td>33070.180917</td>\n",
       "      <td>33494.589125</td>\n",
       "      <td>34299.798502</td>\n",
       "      <td>33747.010635</td>\n",
       "      <td>34415.310417</td>\n",
       "      <td>34786.651716</td>\n",
       "      <td>34781.812246</td>\n",
       "      <td>35268.0</td>\n",
       "    </tr>\n",
       "    <tr>\n",
       "      <th>3</th>\n",
       "      <td>21.874</td>\n",
       "      <td>21.353</td>\n",
       "      <td>4</td>\n",
       "      <td>4</td>\n",
       "      <td>North Dakota</td>\n",
       "      <td>38</td>\n",
       "      <td>W N Cen</td>\n",
       "      <td>ND</td>\n",
       "      <td>POLYGON ((-98.73005676269531 45.93829727172852...</td>\n",
       "      <td>31</td>\n",
       "      <td>...</td>\n",
       "      <td>31231.205087</td>\n",
       "      <td>31639.059097</td>\n",
       "      <td>31924.155031</td>\n",
       "      <td>33939.986592</td>\n",
       "      <td>33703.546914</td>\n",
       "      <td>34760.925899</td>\n",
       "      <td>34964.422976</td>\n",
       "      <td>37127.145653</td>\n",
       "      <td>38870.214688</td>\n",
       "      <td>38672.0</td>\n",
       "    </tr>\n",
       "    <tr>\n",
       "      <th>4</th>\n",
       "      <td>22.598</td>\n",
       "      <td>22.746</td>\n",
       "      <td>5</td>\n",
       "      <td>5</td>\n",
       "      <td>South Dakota</td>\n",
       "      <td>46</td>\n",
       "      <td>W N Cen</td>\n",
       "      <td>SD</td>\n",
       "      <td>POLYGON ((-102.7879333496094 42.99532318115234...</td>\n",
       "      <td>38</td>\n",
       "      <td>...</td>\n",
       "      <td>32535.619948</td>\n",
       "      <td>33350.751818</td>\n",
       "      <td>33065.410778</td>\n",
       "      <td>35062.807957</td>\n",
       "      <td>36076.060376</td>\n",
       "      <td>35949.502622</td>\n",
       "      <td>35458.198611</td>\n",
       "      <td>37247.170983</td>\n",
       "      <td>38052.135623</td>\n",
       "      <td>36499.0</td>\n",
       "    </tr>\n",
       "  </tbody>\n",
       "</table>\n",
       "<p>5 rows × 93 columns</p>\n",
       "</div>"
      ],
      "text/plain": [
       "     AREA  PERIMETER  STATE_  STATE_ID    STATE_NAME STATE_FIPS_x SUB_REGION  \\\n",
       "0  20.750     34.956       1         1    Washington           53    Pacific   \n",
       "1  45.132     34.527       2         2       Montana           30        Mtn   \n",
       "2   9.571     18.899       3         3         Maine           23      N Eng   \n",
       "3  21.874     21.353       4         4  North Dakota           38    W N Cen   \n",
       "4  22.598     22.746       5         5  South Dakota           46    W N Cen   \n",
       "\n",
       "  STATE_ABBR                                           geometry  Unnamed: 0  \\\n",
       "0         WA  (POLYGON ((-122.400749206543 48.22539520263672...          44   \n",
       "1         MT  POLYGON ((-111.4746322631836 44.70223999023438...          23   \n",
       "2         ME  (POLYGON ((-69.77778625488281 44.0740737915039...          16   \n",
       "3         ND  POLYGON ((-98.73005676269531 45.93829727172852...          31   \n",
       "4         SD  POLYGON ((-102.7879333496094 42.99532318115234...          38   \n",
       "\n",
       "   ...          2000          2001          2002          2003          2004  \\\n",
       "0  ...  39279.457236  38828.653083  38406.773885  38399.791076  39731.934399   \n",
       "1  ...  28117.802282  29487.632151  29454.415581  30271.870277  31251.533240   \n",
       "2  ...  31922.657091  32789.878690  33070.180917  33494.589125  34299.798502   \n",
       "3  ...  31231.205087  31639.059097  31924.155031  33939.986592  33703.546914   \n",
       "4  ...  32535.619948  33350.751818  33065.410778  35062.807957  36076.060376   \n",
       "\n",
       "           2005          2006          2007          2008     2009  \n",
       "0  39258.183850  40946.131691  42197.181150  41440.039182  40619.0  \n",
       "1  31842.212079  32927.598482  33757.124099  33174.550940  32699.0  \n",
       "2  33747.010635  34415.310417  34786.651716  34781.812246  35268.0  \n",
       "3  34760.925899  34964.422976  37127.145653  38870.214688  38672.0  \n",
       "4  35949.502622  35458.198611  37247.170983  38052.135623  36499.0  \n",
       "\n",
       "[5 rows x 93 columns]"
      ]
     },
     "execution_count": 3,
     "metadata": {},
     "output_type": "execute_result"
    }
   ],
   "source": [
    "pdUS_real = pd.read_csv(\"data/US_state_pci_constant09_1929_2009.csv\")\n",
    "data_table = gpd.read_file(examples.get_path('us48.shp'))\n",
    "complete_table = data_table.merge(pdUS_real,left_on='STATE_NAME',right_on='Name')\n",
    "complete_table.head()"
   ]
  },
  {
   "cell_type": "markdown",
   "metadata": {},
   "source": [
    "## Dynamics of Spatial Dependence"
   ]
  },
  {
   "cell_type": "code",
   "execution_count": 4,
   "metadata": {},
   "outputs": [
    {
     "data": {
      "text/html": [
       "<div>\n",
       "<style scoped>\n",
       "    .dataframe tbody tr th:only-of-type {\n",
       "        vertical-align: middle;\n",
       "    }\n",
       "\n",
       "    .dataframe tbody tr th {\n",
       "        vertical-align: top;\n",
       "    }\n",
       "\n",
       "    .dataframe thead th {\n",
       "        text-align: right;\n",
       "    }\n",
       "</style>\n",
       "<table border=\"1\" class=\"dataframe\">\n",
       "  <thead>\n",
       "    <tr style=\"text-align: right;\">\n",
       "      <th></th>\n",
       "      <th>1929</th>\n",
       "      <th>1930</th>\n",
       "      <th>1931</th>\n",
       "      <th>1932</th>\n",
       "      <th>1933</th>\n",
       "      <th>1934</th>\n",
       "      <th>1935</th>\n",
       "      <th>1936</th>\n",
       "      <th>1937</th>\n",
       "      <th>1938</th>\n",
       "      <th>...</th>\n",
       "      <th>2000</th>\n",
       "      <th>2001</th>\n",
       "      <th>2002</th>\n",
       "      <th>2003</th>\n",
       "      <th>2004</th>\n",
       "      <th>2005</th>\n",
       "      <th>2006</th>\n",
       "      <th>2007</th>\n",
       "      <th>2008</th>\n",
       "      <th>2009</th>\n",
       "    </tr>\n",
       "  </thead>\n",
       "  <tbody>\n",
       "    <tr>\n",
       "      <th>Alabama</th>\n",
       "      <td>4052.365556</td>\n",
       "      <td>3430.022695</td>\n",
       "      <td>3161.597895</td>\n",
       "      <td>2536.860876</td>\n",
       "      <td>2739.472462</td>\n",
       "      <td>3378.157239</td>\n",
       "      <td>3398.140803</td>\n",
       "      <td>3874.013453</td>\n",
       "      <td>3977.873542</td>\n",
       "      <td>3712.555177</td>\n",
       "      <td>...</td>\n",
       "      <td>29241.567520</td>\n",
       "      <td>29639.055782</td>\n",
       "      <td>30005.366631</td>\n",
       "      <td>30390.798397</td>\n",
       "      <td>31419.619402</td>\n",
       "      <td>31963.047051</td>\n",
       "      <td>32599.833621</td>\n",
       "      <td>33098.019485</td>\n",
       "      <td>32702.237326</td>\n",
       "      <td>32274.0</td>\n",
       "    </tr>\n",
       "    <tr>\n",
       "      <th>Arizona</th>\n",
       "      <td>7527.614035</td>\n",
       "      <td>6680.194012</td>\n",
       "      <td>6055.024539</td>\n",
       "      <td>5026.742847</td>\n",
       "      <td>5082.876615</td>\n",
       "      <td>5795.701045</td>\n",
       "      <td>6514.408175</td>\n",
       "      <td>7130.654245</td>\n",
       "      <td>7508.795000</td>\n",
       "      <td>7272.956454</td>\n",
       "      <td>...</td>\n",
       "      <td>31866.593415</td>\n",
       "      <td>31777.157448</td>\n",
       "      <td>31565.202073</td>\n",
       "      <td>31604.564793</td>\n",
       "      <td>32655.279836</td>\n",
       "      <td>33692.085648</td>\n",
       "      <td>34640.914802</td>\n",
       "      <td>34631.446547</td>\n",
       "      <td>33326.010158</td>\n",
       "      <td>32077.0</td>\n",
       "    </tr>\n",
       "    <tr>\n",
       "      <th>Arkansas</th>\n",
       "      <td>3889.267251</td>\n",
       "      <td>2929.008144</td>\n",
       "      <td>3034.569408</td>\n",
       "      <td>2458.562701</td>\n",
       "      <td>2590.946846</td>\n",
       "      <td>2993.911866</td>\n",
       "      <td>3241.544453</td>\n",
       "      <td>3812.276187</td>\n",
       "      <td>3813.991111</td>\n",
       "      <td>3514.755106</td>\n",
       "      <td>...</td>\n",
       "      <td>27729.094129</td>\n",
       "      <td>28506.407024</td>\n",
       "      <td>28536.163830</td>\n",
       "      <td>29235.330098</td>\n",
       "      <td>30056.758629</td>\n",
       "      <td>30221.924956</td>\n",
       "      <td>30904.608219</td>\n",
       "      <td>32148.163855</td>\n",
       "      <td>31686.862700</td>\n",
       "      <td>31493.0</td>\n",
       "    </tr>\n",
       "    <tr>\n",
       "      <th>California</th>\n",
       "      <td>12433.109181</td>\n",
       "      <td>11394.869401</td>\n",
       "      <td>10571.592961</td>\n",
       "      <td>9082.588321</td>\n",
       "      <td>9010.554000</td>\n",
       "      <td>9654.165000</td>\n",
       "      <td>10335.359124</td>\n",
       "      <td>11899.858058</td>\n",
       "      <td>11844.230208</td>\n",
       "      <td>11731.065745</td>\n",
       "      <td>...</td>\n",
       "      <td>40210.114257</td>\n",
       "      <td>39672.991248</td>\n",
       "      <td>39234.392996</td>\n",
       "      <td>39410.680092</td>\n",
       "      <td>40503.086453</td>\n",
       "      <td>41153.095909</td>\n",
       "      <td>42746.710084</td>\n",
       "      <td>43398.469152</td>\n",
       "      <td>42226.232096</td>\n",
       "      <td>40902.0</td>\n",
       "    </tr>\n",
       "    <tr>\n",
       "      <th>Colorado</th>\n",
       "      <td>7954.178830</td>\n",
       "      <td>7425.292575</td>\n",
       "      <td>6647.824145</td>\n",
       "      <td>5543.510803</td>\n",
       "      <td>5825.504692</td>\n",
       "      <td>5891.762388</td>\n",
       "      <td>6952.877956</td>\n",
       "      <td>8365.399568</td>\n",
       "      <td>7925.950278</td>\n",
       "      <td>7698.987376</td>\n",
       "      <td>...</td>\n",
       "      <td>41049.823537</td>\n",
       "      <td>41463.424257</td>\n",
       "      <td>40502.057426</td>\n",
       "      <td>39749.975022</td>\n",
       "      <td>40366.800376</td>\n",
       "      <td>41070.708428</td>\n",
       "      <td>42207.175069</td>\n",
       "      <td>42593.471680</td>\n",
       "      <td>41570.573113</td>\n",
       "      <td>40093.0</td>\n",
       "    </tr>\n",
       "  </tbody>\n",
       "</table>\n",
       "<p>5 rows × 81 columns</p>\n",
       "</div>"
      ],
      "text/plain": [
       "                    1929          1930          1931         1932  \\\n",
       "Alabama      4052.365556   3430.022695   3161.597895  2536.860876   \n",
       "Arizona      7527.614035   6680.194012   6055.024539  5026.742847   \n",
       "Arkansas     3889.267251   2929.008144   3034.569408  2458.562701   \n",
       "California  12433.109181  11394.869401  10571.592961  9082.588321   \n",
       "Colorado     7954.178830   7425.292575   6647.824145  5543.510803   \n",
       "\n",
       "                   1933         1934          1935          1936  \\\n",
       "Alabama     2739.472462  3378.157239   3398.140803   3874.013453   \n",
       "Arizona     5082.876615  5795.701045   6514.408175   7130.654245   \n",
       "Arkansas    2590.946846  2993.911866   3241.544453   3812.276187   \n",
       "California  9010.554000  9654.165000  10335.359124  11899.858058   \n",
       "Colorado    5825.504692  5891.762388   6952.877956   8365.399568   \n",
       "\n",
       "                    1937          1938  ...          2000          2001  \\\n",
       "Alabama      3977.873542   3712.555177  ...  29241.567520  29639.055782   \n",
       "Arizona      7508.795000   7272.956454  ...  31866.593415  31777.157448   \n",
       "Arkansas     3813.991111   3514.755106  ...  27729.094129  28506.407024   \n",
       "California  11844.230208  11731.065745  ...  40210.114257  39672.991248   \n",
       "Colorado     7925.950278   7698.987376  ...  41049.823537  41463.424257   \n",
       "\n",
       "                    2002          2003          2004          2005  \\\n",
       "Alabama     30005.366631  30390.798397  31419.619402  31963.047051   \n",
       "Arizona     31565.202073  31604.564793  32655.279836  33692.085648   \n",
       "Arkansas    28536.163830  29235.330098  30056.758629  30221.924956   \n",
       "California  39234.392996  39410.680092  40503.086453  41153.095909   \n",
       "Colorado    40502.057426  39749.975022  40366.800376  41070.708428   \n",
       "\n",
       "                    2006          2007          2008     2009  \n",
       "Alabama     32599.833621  33098.019485  32702.237326  32274.0  \n",
       "Arizona     34640.914802  34631.446547  33326.010158  32077.0  \n",
       "Arkansas    30904.608219  32148.163855  31686.862700  31493.0  \n",
       "California  42746.710084  43398.469152  42226.232096  40902.0  \n",
       "Colorado    42207.175069  42593.471680  41570.573113  40093.0  \n",
       "\n",
       "[5 rows x 81 columns]"
      ]
     },
     "execution_count": 4,
     "metadata": {},
     "output_type": "execute_result"
    }
   ],
   "source": [
    "names = pdUS_real[\"Name\"].values\n",
    "years = range(1929,2010)\n",
    "pd_pci_real = pdUS_real[list(map(str,years))]\n",
    "pd_pci_real.index = names\n",
    "pd_pci_real.head()"
   ]
  },
  {
   "cell_type": "code",
   "execution_count": 5,
   "metadata": {},
   "outputs": [
    {
     "data": {
      "text/plain": [
       "(81, 48)"
      ]
     },
     "execution_count": 5,
     "metadata": {},
     "output_type": "execute_result"
    }
   ],
   "source": [
    "pci_real = pd_pci_real.values.T\n",
    "pci_real.shape"
   ]
  },
  {
   "cell_type": "markdown",
   "metadata": {},
   "source": [
    "Prepare the spatial weight matrix - queen contiguity"
   ]
  },
  {
   "cell_type": "code",
   "execution_count": 6,
   "metadata": {},
   "outputs": [],
   "source": [
    "w = io.open(examples.get_path(\"states48.gal\")).read()\n",
    "w.transform = 'R'"
   ]
  },
  {
   "cell_type": "code",
   "execution_count": 7,
   "metadata": {},
   "outputs": [
    {
     "data": {
      "text/plain": [
       "<matplotlib.legend.Legend at 0x7f2bfcfc7080>"
      ]
     },
     "execution_count": 7,
     "metadata": {},
     "output_type": "execute_result"
    },
    {
     "data": {
      "image/png": "[encoded data removed]",
      "text/plain": [
       "<Figure size 720x360 with 1 Axes>"
      ]
     },
     "metadata": {
      "needs_background": "light"
     },
     "output_type": "display_data"
    }
   ],
   "source": [
    "from pysal.explore import esda\n",
    "mits = [esda.moran.Moran(cs, w) for cs in pci_real]\n",
    "res = np.array([(mi.I, mi.EI, mi.seI_norm, mi.sim[974]) for mi in mits])\n",
    "fig, ax = plt.subplots(nrows=1, ncols=1,figsize = (10,5) )\n",
    "ax.plot(years, res[:,0], label='Moran\\'s I')\n",
    "#plot(years, res[:,1], label='E[I]')\n",
    "ax.plot(years, res[:,1]+1.96*res[:,2], label='Upper bound',linestyle='dashed')\n",
    "ax.plot(years, res[:,1]-1.96*res[:,2], label='Lower bound',linestyle='dashed')\n",
    "ax.set_title(\"Global spatial autocorrelation for annual US per capita incomes\",fontdict={'fontsize':15})\n",
    "ax.set_xlim([1929,2009])\n",
    "ax.legend()"
   ]
  },
  {
   "cell_type": "markdown",
   "metadata": {},
   "source": [
    "## Markov-based methods \n",
    "* Role of space in shaping per capita income dynamics"
   ]
  },
  {
   "cell_type": "markdown",
   "metadata": {},
   "source": [
    "Spatial Markov - consider the impacts of regions' income levels on their neighbors in the following time period"
   ]
  },
  {
   "cell_type": "code",
   "execution_count": 8,
   "metadata": {},
   "outputs": [],
   "source": [
    "mean = pci_real.mean(axis=1)\n",
    "mean.shape = (81,1)\n",
    "rpci_real = pci_real / mean"
   ]
  },
  {
   "cell_type": "markdown",
   "metadata": {},
   "source": [
    "Discretization"
   ]
  },
  {
   "cell_type": "code",
   "execution_count": 9,
   "metadata": {},
   "outputs": [
    {
     "data": {
      "text/plain": [
       "<matplotlib.axes._subplots.AxesSubplot at 0x7f2bfcfaa588>"
      ]
     },
     "execution_count": 9,
     "metadata": {},
     "output_type": "execute_result"
    },
    {
     "data": {
      "image/png": "[encoded data removed]",
      "text/plain": [
       "<Figure size 432x288 with 1 Axes>"
      ]
     },
     "metadata": {
      "needs_background": "light"
     },
     "output_type": "display_data"
    }
   ],
   "source": [
    "pooled_rpci_real = rpci_real.flatten()\n",
    "sns.kdeplot(pooled_rpci_real,shade=True)\n"
   ]
  },
  {
   "cell_type": "code",
   "execution_count": 24,
   "metadata": {},
   "outputs": [],
   "source": [
    "pooled_n = len(pooled_rpci_real)\n",
    "pooled_rpci_real.sort()\n",
    "#plt.axvline(pooled_rpci_real[int(pooled_n * 0.2)],color=\"r\")"
   ]
  },
  {
   "cell_type": "code",
   "execution_count": 11,
   "metadata": {},
   "outputs": [
    {
     "data": {
      "text/plain": [
       "<matplotlib.lines.Line2D at 0x7f2bfaea3e80>"
      ]
     },
     "execution_count": 11,
     "metadata": {},
     "output_type": "execute_result"
    },
    {
     "data": {
      "image/png": "[encoded data removed]",
      "text/plain": [
       "<Figure size 432x288 with 1 Axes>"
      ]
     },
     "metadata": {
      "needs_background": "light"
     },
     "output_type": "display_data"
    }
   ],
   "source": [
    "sns.kdeplot(pooled_rpci_real,shade=True)\n",
    "plt.axvline(pooled_rpci_real[int(pooled_n * 0.2)],color=\"r\")\n",
    "plt.axvline(pooled_rpci_real[int(pooled_n * 0.4)],color=\"r\")\n",
    "plt.axvline(pooled_rpci_real[int(pooled_n * 0.6)],color=\"r\")\n",
    "plt.axvline(pooled_rpci_real[int(pooled_n * 0.8)],color=\"r\")"
   ]
  },
  {
   "cell_type": "code",
   "execution_count": 12,
   "metadata": {},
   "outputs": [],
   "source": [
    "from pysal.explore import giddy\n",
    "smarkov = giddy.markov.Spatial_Markov(rpci_real.T, w, fixed = True, k = 5)"
   ]
  },
  {
   "cell_type": "code",
   "execution_count": 13,
   "metadata": {},
   "outputs": [],
   "source": [
    "giddy.markov.Spatial_Markov?"
   ]
  },
  {
   "cell_type": "code",
   "execution_count": 14,
   "metadata": {},
   "outputs": [
    {
     "name": "stdout",
     "output_type": "stream",
     "text": [
      "--------------------------------------------------------------\n",
      "                     Spatial Markov Test                      \n",
      "--------------------------------------------------------------\n",
      "Number of classes: 5\n",
      "Number of transitions: 3840\n",
      "Number of regimes: 4\n",
      "Regime names: LAG0, LAG1, LAG2, LAG3, LAG4\n",
      "--------------------------------------------------------------\n",
      "   Test                   LR                Chi-2\n",
      "  Stat.              172.105              321.128\n",
      "    DOF                   45                   45\n",
      "p-value                0.000                0.000\n",
      "--------------------------------------------------------------\n",
      "P(H0)           C0         C1         C2         C3         C4\n",
      "     C0      0.915      0.075      0.009      0.001      0.000\n",
      "     C1      0.066      0.827      0.105      0.001      0.001\n",
      "     C2      0.005      0.103      0.794      0.095      0.003\n",
      "     C3      0.000      0.009      0.094      0.849      0.048\n",
      "     C4      0.000      0.000      0.000      0.062      0.938\n",
      "--------------------------------------------------------------\n",
      "P(LAG0)         C0         C1         C2         C3         C4\n",
      "     C0      0.957      0.035      0.007      0.000      0.000\n",
      "     C1      0.058      0.840      0.102      0.000      0.000\n",
      "     C2      0.000      0.129      0.763      0.108      0.000\n",
      "     C3      0.000      0.015      0.185      0.723      0.077\n",
      "     C4      0.000      0.000      0.000      0.143      0.857\n",
      "--------------------------------------------------------------\n",
      "P(LAG1)         C0         C1         C2         C3         C4\n",
      "     C0      0.742      0.234      0.023      0.000      0.000\n",
      "     C1      0.086      0.851      0.063      0.000      0.000\n",
      "     C2      0.009      0.069      0.861      0.056      0.004\n",
      "     C3      0.000      0.000      0.054      0.923      0.023\n",
      "     C4      0.000      0.000      0.000      0.134      0.866\n",
      "--------------------------------------------------------------\n",
      "P(LAG2)         C0         C1         C2         C3         C4\n",
      "     C0      0.951      0.049      0.000      0.000      0.000\n",
      "     C1      0.060      0.790      0.145      0.000      0.005\n",
      "     C2      0.004      0.104      0.792      0.097      0.004\n",
      "     C3      0.000      0.016      0.136      0.755      0.092\n",
      "     C4      0.000      0.000      0.000      0.102      0.898\n",
      "--------------------------------------------------------------\n",
      "P(LAG3)         C0         C1         C2         C3         C4\n",
      "     C0      0.167      0.667      0.000      0.167      0.000\n",
      "     C1      0.035      0.802      0.151      0.012      0.000\n",
      "     C2      0.008      0.134      0.706      0.151      0.000\n",
      "     C3      0.000      0.012      0.082      0.871      0.035\n",
      "     C4      0.000      0.000      0.000      0.034      0.966\n",
      "--------------------------------------------------------------\n"
     ]
    }
   ],
   "source": [
    "smarkov.summary()"
   ]
  },
  {
   "cell_type": "markdown",
   "metadata": {},
   "source": [
    "Steady state distributions"
   ]
  },
  {
   "cell_type": "code",
   "execution_count": 15,
   "metadata": {},
   "outputs": [
    {
     "data": {
      "text/plain": [
       "array([0.17957376, 0.21631443, 0.21499942, 0.21134662, 0.17776576])"
      ]
     },
     "execution_count": 15,
     "metadata": {},
     "output_type": "execute_result"
    }
   ],
   "source": [
    "smarkov.s"
   ]
  },
  {
   "cell_type": "code",
   "execution_count": 16,
   "metadata": {},
   "outputs": [
    {
     "data": {
      "text/plain": [
       "array([[0.35297455, 0.26001141, 0.21147093, 0.11410302, 0.06144009],\n",
       "       [0.1027107 , 0.283307  , 0.26066351, 0.29451591, 0.05880288],\n",
       "       [0.24907788, 0.18737494, 0.23677683, 0.1623105 , 0.16445984],\n",
       "       [0.00880996, 0.1681478 , 0.17564575, 0.31991252, 0.32748398],\n",
       "       [0.        , 0.        , 0.        , 0.        , 0.        ]])"
      ]
     },
     "execution_count": 16,
     "metadata": {},
     "output_type": "execute_result"
    }
   ],
   "source": [
    "smarkov.S"
   ]
  },
  {
   "cell_type": "code",
   "execution_count": 17,
   "metadata": {},
   "outputs": [
    {
     "data": {
      "text/plain": [
       "array([[[  2.83306547,  25.61410861,  40.68173258,  75.1913371 ,\n",
       "         182.12346516],\n",
       "        [ 40.40863454,   3.84598504,  21.03578154,  55.54538606,\n",
       "         162.47751412],\n",
       "        [ 53.68975904,  13.2811245 ,   4.72878229,  34.50960452,\n",
       "         141.44173258],\n",
       "        [ 60.36044177,  19.95180723,   9.31044473,   8.76400985,\n",
       "         106.93212806],\n",
       "        [ 67.36044177,  26.95180723,  16.31044473,   7.        ,\n",
       "          16.27601829]],\n",
       "\n",
       "       [[  9.73608398,   6.69444444,  20.93650794,  62.4031746 ,\n",
       "         172.51587302],\n",
       "        [ 31.45510913,   3.52973978,  18.76349206,  60.23015873,\n",
       "         170.34285714],\n",
       "        [ 58.18849206,  30.97222222,   3.83636364,  41.46666667,\n",
       "         151.57936508],\n",
       "        [ 80.0218254 ,  52.80555556,  21.83333333,   3.3954023 ,\n",
       "         119.15555556],\n",
       "        [ 87.46626984,  60.25      ,  29.27777778,   7.44444444,\n",
       "          17.00597015]],\n",
       "\n",
       "       [[  4.01480857,  20.6       ,  36.30681004,  61.38      ,\n",
       "         105.21011419],\n",
       "        [ 62.1050566 ,   5.33689286,  15.70681004,  40.78      ,\n",
       "          84.61011419],\n",
       "        [ 79.59884277,  20.        ,   4.22338613,  26.42758621,\n",
       "          72.10701468],\n",
       "        [ 90.24593711,  30.37857143,  14.20430108,   6.16103073,\n",
       "          49.78901577],\n",
       "        [100.04593711,  40.17857143,  24.00430108,   9.8       ,\n",
       "           6.08051181]],\n",
       "\n",
       "       [[113.50785911,  10.22414103,  12.62918709,  14.04647984,\n",
       "          73.84202932],\n",
       "        [127.2349177 ,   5.94714895,   8.6206427 ,  16.05809979,\n",
       "          75.85364927],\n",
       "        [146.99123978,  26.8970524 ,   5.6932776 ,  11.14217362,\n",
       "          70.9377231 ],\n",
       "        [166.10748383,  45.12070516,  22.66336465,   3.12585457,\n",
       "          59.79554948],\n",
       "        [195.22513089,  74.23835222,  51.78101171,  29.11764706,\n",
       "           3.05358453]]])"
      ]
     },
     "execution_count": 17,
     "metadata": {},
     "output_type": "execute_result"
    }
   ],
   "source": [
    "smarkov.F"
   ]
  },
  {
   "cell_type": "markdown",
   "metadata": {},
   "source": [
    "LISA Markov - consider the joint transitions of regions' and neighbors' income levels\n",
    "\n",
    "* Markov state space={1(HH), 2(LH), 3(LL), 4(HL)}"
   ]
  },
  {
   "cell_type": "code",
   "execution_count": 18,
   "metadata": {},
   "outputs": [],
   "source": [
    "giddy.markov.LISA_Markov?"
   ]
  },
  {
   "cell_type": "code",
   "execution_count": 19,
   "metadata": {},
   "outputs": [
    {
     "data": {
      "text/plain": [
       "array([1, 2, 3, 4])"
      ]
     },
     "execution_count": 19,
     "metadata": {},
     "output_type": "execute_result"
    }
   ],
   "source": [
    "lm = giddy.markov.LISA_Markov(pci_real.T, w)\n",
    "lm.classes"
   ]
  },
  {
   "cell_type": "code",
   "execution_count": 20,
   "metadata": {},
   "outputs": [
    {
     "data": {
      "text/plain": [
       "array([[0.92985458, 0.03763901, 0.00342173, 0.02908469],\n",
       "       [0.07481752, 0.85766423, 0.06569343, 0.00182482],\n",
       "       [0.00333333, 0.02266667, 0.948     , 0.026     ],\n",
       "       [0.04815409, 0.00160514, 0.06420546, 0.88603531]])"
      ]
     },
     "execution_count": 20,
     "metadata": {},
     "output_type": "execute_result"
    }
   ],
   "source": [
    "lm.p"
   ]
  },
  {
   "cell_type": "code",
   "execution_count": 21,
   "metadata": {},
   "outputs": [
    {
     "data": {
      "text/plain": [
       "array([0.28561505, 0.14190226, 0.40493672, 0.16754598])"
      ]
     },
     "execution_count": 21,
     "metadata": {},
     "output_type": "execute_result"
    }
   ],
   "source": [
    "lm.steady_state"
   ]
  },
  {
   "cell_type": "code",
   "execution_count": 22,
   "metadata": {},
   "outputs": [
    {
     "data": {
      "text/plain": [
       "array([[ 3.50121609, 37.93025465, 40.55772829, 43.17412009],\n",
       "       [31.72800152,  7.04710419, 28.68182751, 49.91485137],\n",
       "       [52.44489385, 47.42097495,  2.46952168, 43.75609676],\n",
       "       [38.76794022, 51.51755827, 26.31568558,  5.96851095]])"
      ]
     },
     "execution_count": 22,
     "metadata": {},
     "output_type": "execute_result"
    }
   ],
   "source": [
    "giddy.ergodic.fmpt(lm.p)"
   ]
  },
  {
   "cell_type": "code",
   "execution_count": 23,
   "metadata": {},
   "outputs": [
    {
     "data": {
      "text/plain": [
       "(238.16387702642578, 0.0, 9)"
      ]
     },
     "execution_count": 23,
     "metadata": {},
     "output_type": "execute_result"
    }
   ],
   "source": [
    "lm.chi_2"
   ]
  },
  {
   "cell_type": "code",
   "execution_count": null,
   "metadata": {},
   "outputs": [],
   "source": []
  },
  {
   "cell_type": "code",
   "execution_count": null,
   "metadata": {},
   "outputs": [],
   "source": []
  },
  {
   "cell_type": "code",
   "execution_count": null,
   "metadata": {},
   "outputs": [],
   "source": []
  }
 ],
 "metadata": {
  "kernelspec": {
   "display_name": "Python 3",
   "language": "python",
   "name": "python3"
  },
  "language_info": {
   "codemirror_mode": {
    "name": "ipython",
    "version": 3
   },
   "file_extension": ".py",
   "mimetype": "text/x-python",
   "name": "python",
   "nbconvert_exporter": "python",
   "pygments_lexer": "ipython3",
   "version": "3.6.7"
  }
 },
 "nbformat": 4,
 "nbformat_minor": 2
}
