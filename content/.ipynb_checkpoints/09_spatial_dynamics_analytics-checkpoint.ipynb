{
 "cells": [
  {
   "cell_type": "markdown",
   "metadata": {},
   "source": [
    "# Spatial dynamics analytics with [pysal/giddy](https://giddy.readthedocs.io/en/latest/index.html)\n",
    "\n",
    "* Dynamics of cross-sectional spatial autocorrelation \n",
    "* Modeling spatial dynamics with Markov-based methods\n",
    "    * Classic Markov\n",
    "    * Spatial Markov\n",
    "    * LISA Markov"
   ]
  },
  {
   "cell_type": "code",
   "execution_count": null,
   "metadata": {},
   "outputs": [],
   "source": [
    "from pysal.lib import io, examples, weights"
   ]
  },
  {
   "cell_type": "code",
   "execution_count": null,
   "metadata": {},
   "outputs": [],
   "source": [
    "import matplotlib\n",
    "import numpy as np\n",
    "import geopandas as gpd\n",
    "import matplotlib.pyplot as plt\n",
    "%matplotlib inline\n",
    "import seaborn as sns\n",
    "import pandas as pd"
   ]
  },
  {
   "cell_type": "code",
   "execution_count": null,
   "metadata": {},
   "outputs": [],
   "source": [
    "pdUS_real = pd.read_csv(\"data/US_state_pci_constant09_1929_2009.csv\")\n",
    "data_table = gpd.read_file(examples.get_path('us48.shp'))\n",
    "complete_table = data_table.merge(pdUS_real,left_on='STATE_NAME',right_on='Name')\n",
    "complete_table.head()"
   ]
  },
  {
   "cell_type": "markdown",
   "metadata": {},
   "source": [
    "## Dynamics of Spatial Dependence"
   ]
  },
  {
   "cell_type": "code",
   "execution_count": null,
   "metadata": {},
   "outputs": [],
   "source": [
    "names = pdUS_real[\"Name\"].values\n",
    "years = range(1929,2010)\n",
    "pd_pci_real = pdUS_real[list(map(str,years))]\n",
    "pd_pci_real.index = names\n",
    "pd_pci_real.head()"
   ]
  },
  {
   "cell_type": "code",
   "execution_count": null,
   "metadata": {},
   "outputs": [],
   "source": [
    "pci_real = pd_pci_real.values.T\n",
    "pci_real.shape"
   ]
  },
  {
   "cell_type": "markdown",
   "metadata": {},
   "source": [
    "Prepare the spatial weight matrix - queen contiguity"
   ]
  },
  {
   "cell_type": "code",
   "execution_count": null,
   "metadata": {},
   "outputs": [],
   "source": [
    "w = io.open(examples.get_path(\"states48.gal\")).read()\n",
    "w.transform = 'R'"
   ]
  },
  {
   "cell_type": "code",
   "execution_count": null,
   "metadata": {},
   "outputs": [],
   "source": [
    "from pysal.explore import esda\n",
    "mits = [esda.moran.Moran(cs, w) for cs in pci_real]\n",
    "res = np.array([(mi.I, mi.EI, mi.seI_norm, mi.sim[974]) for mi in mits])\n",
    "fig, ax = plt.subplots(nrows=1, ncols=1,figsize = (10,5) )\n",
    "ax.plot(years, res[:,0], label='Moran\\'s I')\n",
    "#plot(years, res[:,1], label='E[I]')\n",
    "ax.plot(years, res[:,1]+1.96*res[:,2], label='Upper bound',linestyle='dashed')\n",
    "ax.plot(years, res[:,1]-1.96*res[:,2], label='Lower bound',linestyle='dashed')\n",
    "ax.set_title(\"Global spatial autocorrelation for annual US per capita incomes\",fontdict={'fontsize':15})\n",
    "ax.set_xlim([1929,2009])\n",
    "ax.legend()"
   ]
  },
  {
   "cell_type": "markdown",
   "metadata": {},
   "source": [
    "## Markov-based methods \n",
    "* Role of space in shaping per capita income dynamics"
   ]
  },
  {
   "cell_type": "markdown",
   "metadata": {},
   "source": [
    "Spatial Markov - consider the impacts of regions' income levels on their neighbors in the following time period"
   ]
  },
  {
   "cell_type": "code",
   "execution_count": null,
   "metadata": {},
   "outputs": [],
   "source": [
    "mean = pci_real.mean(axis=1)\n",
    "mean.shape = (81,1)\n",
    "rpci_real = pci_real / mean"
   ]
  },
  {
   "cell_type": "markdown",
   "metadata": {},
   "source": [
    "Discretization"
   ]
  },
  {
   "cell_type": "code",
   "execution_count": null,
   "metadata": {},
   "outputs": [],
   "source": [
    "pooled_rpci_real = rpci_real.flatten()\n",
    "sns.kdeplot(pooled_rpci_real,shade=True)\n"
   ]
  },
  {
   "cell_type": "code",
   "execution_count": null,
   "metadata": {},
   "outputs": [],
   "source": [
    "pooled_n = len(pooled_rpci_real)\n",
    "pooled_rpci_real.sort()\n",
    "plt.axvline(pooled_rpci_real[int(pooled_n * 0.2)],color=\"r\")"
   ]
  },
  {
   "cell_type": "code",
   "execution_count": null,
   "metadata": {},
   "outputs": [],
   "source": [
    "sns.kdeplot(pooled_rpci_real,shade=True)\n",
    "plt.axvline(pooled_rpci_real[int(pooled_n * 0.2)],color=\"r\")\n",
    "plt.axvline(pooled_rpci_real[int(pooled_n * 0.4)],color=\"r\")\n",
    "plt.axvline(pooled_rpci_real[int(pooled_n * 0.6)],color=\"r\")\n",
    "plt.axvline(pooled_rpci_real[int(pooled_n * 0.8)],color=\"r\")"
   ]
  },
  {
   "cell_type": "code",
   "execution_count": null,
   "metadata": {},
   "outputs": [],
   "source": [
    "from pysal.explore import giddy\n",
    "smarkov = giddy.markov.Spatial_Markov(rpci_real.T, w, fixed = True, k = 5)"
   ]
  },
  {
   "cell_type": "code",
   "execution_count": null,
   "metadata": {},
   "outputs": [],
   "source": [
    "giddy.markov.Spatial_Markov?"
   ]
  },
  {
   "cell_type": "code",
   "execution_count": null,
   "metadata": {},
   "outputs": [],
   "source": [
    "smarkov.summary()"
   ]
  },
  {
   "cell_type": "markdown",
   "metadata": {},
   "source": [
    "Steady state distributions"
   ]
  },
  {
   "cell_type": "code",
   "execution_count": null,
   "metadata": {},
   "outputs": [],
   "source": [
    "smarkov.s"
   ]
  },
  {
   "cell_type": "code",
   "execution_count": null,
   "metadata": {},
   "outputs": [],
   "source": [
    "smarkov.S"
   ]
  },
  {
   "cell_type": "code",
   "execution_count": null,
   "metadata": {},
   "outputs": [],
   "source": [
    "smarkov.F"
   ]
  },
  {
   "cell_type": "markdown",
   "metadata": {},
   "source": [
    "LISA Markov - consider the joint transitions of regions' and neighbors' income levels\n",
    "\n",
    "* Markov state space={1(HH), 2(LH), 3(LL), 4(HL)}"
   ]
  },
  {
   "cell_type": "code",
   "execution_count": null,
   "metadata": {},
   "outputs": [],
   "source": [
    "giddy.markov.LISA_Markov?"
   ]
  },
  {
   "cell_type": "code",
   "execution_count": null,
   "metadata": {},
   "outputs": [],
   "source": [
    "lm = giddy.markov.LISA_Markov(pci_real.T, w)\n",
    "lm.classes"
   ]
  },
  {
   "cell_type": "code",
   "execution_count": null,
   "metadata": {},
   "outputs": [],
   "source": [
    "lm.p"
   ]
  },
  {
   "cell_type": "code",
   "execution_count": null,
   "metadata": {},
   "outputs": [],
   "source": [
    "lm.steady_state"
   ]
  },
  {
   "cell_type": "code",
   "execution_count": null,
   "metadata": {},
   "outputs": [],
   "source": [
    "giddy.ergodic.fmpt(lm.p)"
   ]
  },
  {
   "cell_type": "code",
   "execution_count": null,
   "metadata": {},
   "outputs": [],
   "source": [
    "lm.chi_2"
   ]
  },
  {
   "cell_type": "code",
   "execution_count": null,
   "metadata": {},
   "outputs": [],
   "source": []
  },
  {
   "cell_type": "code",
   "execution_count": null,
   "metadata": {},
   "outputs": [],
   "source": []
  },
  {
   "cell_type": "code",
   "execution_count": null,
   "metadata": {},
   "outputs": [],
   "source": []
  }
 ],
 "metadata": {
  "kernelspec": {
   "display_name": "Python 3",
   "language": "python",
   "name": "python3"
  },
  "language_info": {
   "codemirror_mode": {
    "name": "ipython",
    "version": 3
   },
   "file_extension": ".py",
   "mimetype": "text/x-python",
   "name": "python",
   "nbconvert_exporter": "python",
   "pygments_lexer": "ipython3",
   "version": "3.6.7"
  }
 },
 "nbformat": 4,
 "nbformat_minor": 2
}
